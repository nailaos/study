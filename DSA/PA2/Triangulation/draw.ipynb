{
 "cells": [
  {
   "cell_type": "code",
   "execution_count": null,
   "metadata": {},
   "outputs": [],
   "source": [
    "import matplotlib.pyplot as plt\n",
    "\n",
    "def plot_points_and_lines(n, points):\n",
    "    # 解析输入\n",
    "    x = [point[0] for point in points]\n",
    "    y = [point[1] for point in points]\n",
    "\n",
    "    # 画出点\n",
    "    plt.scatter(x, y, color='red')\n",
    "\n",
    "    # 画出连接线\n",
    "    for i in range(n - 1):\n",
    "        plt.plot([x[i], x[i+1]], [y[i], y[i+1]], color='blue')\n",
    "\n",
    "    # 首尾相连\n",
    "    plt.plot([x[n-1], x[0]], [y[n-1], y[0]], color='blue')\n",
    "\n",
    "    # 显示图形\n",
    "    plt.xlabel('X-axis')\n",
    "    plt.ylabel('Y-axis')\n",
    "    plt.title('Connected Points')\n",
    "    plt.grid(True)\n",
    "    plt.show()\n",
    "\n",
    "# 输入点的数量\n",
    "n = int(input(\"请输入点的数量：\"))\n",
    "\n",
    "# 输入每个点的坐标\n",
    "points = []\n",
    "for i in range(n):\n",
    "    x = float(input(f\"请输入第 {i+1} 个点的 x 坐标：\"))\n",
    "    y = float(input(f\"请输入第 {i+1} 个点的 y 坐标：\"))\n",
    "    points.append((x, y))\n",
    "\n",
    "# 画图\n",
    "plot_points_and_lines(n, points)"
   ]
  }
 ],
 "metadata": {
  "language_info": {
   "name": "python"
  }
 },
 "nbformat": 4,
 "nbformat_minor": 2
}
